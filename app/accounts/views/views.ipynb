{
 "cells": [
  {
   "cell_type": "code",
   "execution_count": 74,
   "id": "9ad066bc",
   "metadata": {},
   "outputs": [],
   "source": [
    "from jupiter.run_jupiter import init_django\n",
    "init_django('app')"
   ]
  },
  {
   "cell_type": "code",
   "execution_count": 75,
   "id": "40cc6a83",
   "metadata": {},
   "outputs": [
    {
     "name": "stdout",
     "output_type": "stream",
     "text": [
      "<django.db.models.query_utils.DeferredAttribute object at 0x000001D678010250>\n"
     ]
    }
   ],
   "source": [
    "from django.contrib.auth import get_user_model\n",
    "\n",
    "user = get_user_model()\n",
    "print(user.username)"
   ]
  }
 ],
 "metadata": {
  "kernelspec": {
   "display_name": "Python 3 (ipykernel)",
   "language": "python",
   "name": "python3"
  },
  "language_info": {
   "codemirror_mode": {
    "name": "ipython",
    "version": 3
   },
   "file_extension": ".py",
   "mimetype": "text/x-python",
   "name": "python",
   "nbconvert_exporter": "python",
   "pygments_lexer": "ipython3",
   "version": "3.9.7"
  }
 },
 "nbformat": 4,
 "nbformat_minor": 5
}
